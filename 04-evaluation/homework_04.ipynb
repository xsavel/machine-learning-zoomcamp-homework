{
 "cells": [
  {
   "cell_type": "markdown",
   "id": "8e344ca0-7926-4bcb-897c-a7a2b6f84fa6",
   "metadata": {},
   "source": [
    "# Homework 04. Evaluation"
   ]
  },
  {
   "cell_type": "code",
   "execution_count": 28,
   "id": "573d1ada-eef8-4d06-a846-d96ccc437d52",
   "metadata": {},
   "outputs": [],
   "source": [
    "import numpy as np\n",
    "import pandas as pd\n",
    "from sklearn.model_selection import train_test_split\n",
    "from sklearn.metrics import roc_auc_score\n",
    "from sklearn.feature_extraction import DictVectorizer\n",
    "from sklearn.linear_model import LogisticRegression\n",
    "import matplotlib.pyplot as plt\n",
    "from sklearn.metrics import precision_score, recall_score\n",
    "from scipy import interpolate\n",
    "from sklearn.model_selection import KFold"
   ]
  },
  {
   "cell_type": "code",
   "execution_count": 3,
   "id": "2ef26903-020f-4a77-bc4d-ec1142a9eaeb",
   "metadata": {},
   "outputs": [],
   "source": [
    "df = pd.read_csv('bank-full.csv', sep=\";\")"
   ]
  },
  {
   "cell_type": "code",
   "execution_count": 4,
   "id": "b479dd31-5d5c-42b1-98b7-36e8268b5eb1",
   "metadata": {},
   "outputs": [
    {
     "data": {
      "text/html": [
       "<div>\n",
       "<style scoped>\n",
       "    .dataframe tbody tr th:only-of-type {\n",
       "        vertical-align: middle;\n",
       "    }\n",
       "\n",
       "    .dataframe tbody tr th {\n",
       "        vertical-align: top;\n",
       "    }\n",
       "\n",
       "    .dataframe thead th {\n",
       "        text-align: right;\n",
       "    }\n",
       "</style>\n",
       "<table border=\"1\" class=\"dataframe\">\n",
       "  <thead>\n",
       "    <tr style=\"text-align: right;\">\n",
       "      <th></th>\n",
       "      <th>0</th>\n",
       "      <th>1</th>\n",
       "      <th>2</th>\n",
       "      <th>3</th>\n",
       "      <th>4</th>\n",
       "    </tr>\n",
       "  </thead>\n",
       "  <tbody>\n",
       "    <tr>\n",
       "      <th>age</th>\n",
       "      <td>58</td>\n",
       "      <td>44</td>\n",
       "      <td>33</td>\n",
       "      <td>47</td>\n",
       "      <td>33</td>\n",
       "    </tr>\n",
       "    <tr>\n",
       "      <th>job</th>\n",
       "      <td>management</td>\n",
       "      <td>technician</td>\n",
       "      <td>entrepreneur</td>\n",
       "      <td>blue-collar</td>\n",
       "      <td>unknown</td>\n",
       "    </tr>\n",
       "    <tr>\n",
       "      <th>marital</th>\n",
       "      <td>married</td>\n",
       "      <td>single</td>\n",
       "      <td>married</td>\n",
       "      <td>married</td>\n",
       "      <td>single</td>\n",
       "    </tr>\n",
       "    <tr>\n",
       "      <th>education</th>\n",
       "      <td>tertiary</td>\n",
       "      <td>secondary</td>\n",
       "      <td>secondary</td>\n",
       "      <td>unknown</td>\n",
       "      <td>unknown</td>\n",
       "    </tr>\n",
       "    <tr>\n",
       "      <th>default</th>\n",
       "      <td>no</td>\n",
       "      <td>no</td>\n",
       "      <td>no</td>\n",
       "      <td>no</td>\n",
       "      <td>no</td>\n",
       "    </tr>\n",
       "    <tr>\n",
       "      <th>balance</th>\n",
       "      <td>2143</td>\n",
       "      <td>29</td>\n",
       "      <td>2</td>\n",
       "      <td>1506</td>\n",
       "      <td>1</td>\n",
       "    </tr>\n",
       "    <tr>\n",
       "      <th>housing</th>\n",
       "      <td>yes</td>\n",
       "      <td>yes</td>\n",
       "      <td>yes</td>\n",
       "      <td>yes</td>\n",
       "      <td>no</td>\n",
       "    </tr>\n",
       "    <tr>\n",
       "      <th>loan</th>\n",
       "      <td>no</td>\n",
       "      <td>no</td>\n",
       "      <td>yes</td>\n",
       "      <td>no</td>\n",
       "      <td>no</td>\n",
       "    </tr>\n",
       "    <tr>\n",
       "      <th>contact</th>\n",
       "      <td>unknown</td>\n",
       "      <td>unknown</td>\n",
       "      <td>unknown</td>\n",
       "      <td>unknown</td>\n",
       "      <td>unknown</td>\n",
       "    </tr>\n",
       "    <tr>\n",
       "      <th>day</th>\n",
       "      <td>5</td>\n",
       "      <td>5</td>\n",
       "      <td>5</td>\n",
       "      <td>5</td>\n",
       "      <td>5</td>\n",
       "    </tr>\n",
       "    <tr>\n",
       "      <th>month</th>\n",
       "      <td>may</td>\n",
       "      <td>may</td>\n",
       "      <td>may</td>\n",
       "      <td>may</td>\n",
       "      <td>may</td>\n",
       "    </tr>\n",
       "    <tr>\n",
       "      <th>duration</th>\n",
       "      <td>261</td>\n",
       "      <td>151</td>\n",
       "      <td>76</td>\n",
       "      <td>92</td>\n",
       "      <td>198</td>\n",
       "    </tr>\n",
       "    <tr>\n",
       "      <th>campaign</th>\n",
       "      <td>1</td>\n",
       "      <td>1</td>\n",
       "      <td>1</td>\n",
       "      <td>1</td>\n",
       "      <td>1</td>\n",
       "    </tr>\n",
       "    <tr>\n",
       "      <th>pdays</th>\n",
       "      <td>-1</td>\n",
       "      <td>-1</td>\n",
       "      <td>-1</td>\n",
       "      <td>-1</td>\n",
       "      <td>-1</td>\n",
       "    </tr>\n",
       "    <tr>\n",
       "      <th>previous</th>\n",
       "      <td>0</td>\n",
       "      <td>0</td>\n",
       "      <td>0</td>\n",
       "      <td>0</td>\n",
       "      <td>0</td>\n",
       "    </tr>\n",
       "    <tr>\n",
       "      <th>poutcome</th>\n",
       "      <td>unknown</td>\n",
       "      <td>unknown</td>\n",
       "      <td>unknown</td>\n",
       "      <td>unknown</td>\n",
       "      <td>unknown</td>\n",
       "    </tr>\n",
       "    <tr>\n",
       "      <th>y</th>\n",
       "      <td>no</td>\n",
       "      <td>no</td>\n",
       "      <td>no</td>\n",
       "      <td>no</td>\n",
       "      <td>no</td>\n",
       "    </tr>\n",
       "  </tbody>\n",
       "</table>\n",
       "</div>"
      ],
      "text/plain": [
       "                    0           1             2            3        4\n",
       "age                58          44            33           47       33\n",
       "job        management  technician  entrepreneur  blue-collar  unknown\n",
       "marital       married      single       married      married   single\n",
       "education    tertiary   secondary     secondary      unknown  unknown\n",
       "default            no          no            no           no       no\n",
       "balance          2143          29             2         1506        1\n",
       "housing           yes         yes           yes          yes       no\n",
       "loan               no          no           yes           no       no\n",
       "contact       unknown     unknown       unknown      unknown  unknown\n",
       "day                 5           5             5            5        5\n",
       "month             may         may           may          may      may\n",
       "duration          261         151            76           92      198\n",
       "campaign            1           1             1            1        1\n",
       "pdays              -1          -1            -1           -1       -1\n",
       "previous            0           0             0            0        0\n",
       "poutcome      unknown     unknown       unknown      unknown  unknown\n",
       "y                  no          no            no           no       no"
      ]
     },
     "execution_count": 4,
     "metadata": {},
     "output_type": "execute_result"
    }
   ],
   "source": [
    "df.head().T"
   ]
  },
  {
   "cell_type": "markdown",
   "id": "04bb92b7-acd9-4f29-8249-57c86e128ef6",
   "metadata": {},
   "source": [
    "# Data Preparation"
   ]
  },
  {
   "cell_type": "code",
   "execution_count": 5,
   "id": "628c3f59-2475-422c-afa0-9202ffef1753",
   "metadata": {},
   "outputs": [],
   "source": [
    "columns = ['age', 'job', 'marital', 'education', 'balance', 'housing', \n",
    "           'contact', 'day', 'month', 'duration', 'campaign', 'pdays', \n",
    "           'previous', 'poutcome', 'y']"
   ]
  },
  {
   "cell_type": "code",
   "execution_count": 6,
   "id": "63f9d8e9-0805-4155-a547-b9cb219ac1bd",
   "metadata": {},
   "outputs": [],
   "source": [
    "df_selected = df[columns]"
   ]
  },
  {
   "cell_type": "code",
   "execution_count": 7,
   "id": "37a30983-514d-4d00-9969-b5a6d6563e56",
   "metadata": {},
   "outputs": [
    {
     "data": {
      "text/plain": [
       "45211"
      ]
     },
     "execution_count": 7,
     "metadata": {},
     "output_type": "execute_result"
    }
   ],
   "source": [
    "len(df[columns])"
   ]
  },
  {
   "cell_type": "code",
   "execution_count": 8,
   "id": "311d1452-f036-4225-938a-583776c43309",
   "metadata": {},
   "outputs": [],
   "source": [
    "df_full_train, df_test = train_test_split(df, test_size=0.2, random_state=1)\n",
    "df_train, df_val = train_test_split(df_full_train, test_size=0.25, random_state=1)\n",
    "\n",
    "df_train = df_train.reset_index(drop=True)\n",
    "df_val = df_val.reset_index(drop=True)\n",
    "df_test = df_test.reset_index(drop=True)\n",
    "\n",
    "y_train = df_train.y.values\n",
    "y_val = df_val.y.values\n",
    "y_test = df_test.y.values\n",
    "\n",
    "del df_train['y']\n",
    "del df_val['y']\n",
    "del df_test['y']"
   ]
  },
  {
   "cell_type": "code",
   "execution_count": 9,
   "id": "5d7982cb-907b-44a4-99b2-d1d030f8cc0b",
   "metadata": {},
   "outputs": [
    {
     "data": {
      "text/plain": [
       "27126"
      ]
     },
     "execution_count": 9,
     "metadata": {},
     "output_type": "execute_result"
    }
   ],
   "source": [
    "len(df_train)"
   ]
  },
  {
   "cell_type": "code",
   "execution_count": 10,
   "id": "4a7db1d4-3272-4169-9446-7fee984e0486",
   "metadata": {},
   "outputs": [
    {
     "data": {
      "text/plain": [
       "9042"
      ]
     },
     "execution_count": 10,
     "metadata": {},
     "output_type": "execute_result"
    }
   ],
   "source": [
    "len(df_val)"
   ]
  },
  {
   "cell_type": "code",
   "execution_count": 11,
   "id": "a99f42db-9eb6-4abf-95b3-f79fbb1175c5",
   "metadata": {},
   "outputs": [
    {
     "data": {
      "text/plain": [
       "9043"
      ]
     },
     "execution_count": 11,
     "metadata": {},
     "output_type": "execute_result"
    }
   ],
   "source": [
    "len(df_test)"
   ]
  },
  {
   "cell_type": "markdown",
   "id": "2bfb4208-9bfa-45f1-8eb9-b7dad1b24fe6",
   "metadata": {},
   "source": [
    "# Question 1"
   ]
  },
  {
   "cell_type": "code",
   "execution_count": 12,
   "id": "4d73a275-8df1-4f43-a684-4871804f23a6",
   "metadata": {},
   "outputs": [],
   "source": [
    "# ROC AUC could also be used to evaluate feature importance of numerical variables.\n",
    "\n",
    "# Let's do that\n",
    "\n",
    "# For each numerical variable, use it as score (aka prediction) and compute the AUC with the y variable as ground truth.\n",
    "# Use the training dataset for that\n",
    "# If your AUC is < 0.5, invert this variable by putting \"-\" in front\n",
    "\n",
    "# (e.g. -df_train['engine_hp'])\n",
    "\n",
    "# Which numerical variable (among the following 4) has the highest AUC?"
   ]
  },
  {
   "cell_type": "code",
   "execution_count": 13,
   "id": "9447ab28-bdec-4c1f-aa7d-2cebdea72530",
   "metadata": {},
   "outputs": [
    {
     "name": "stdout",
     "output_type": "stream",
     "text": [
      "Inverted age for AUC calculation\n",
      "Inverted day for AUC calculation\n",
      "age: AUC = 0.512\n",
      "balance: AUC = 0.589\n",
      "day: AUC = 0.526\n",
      "duration: AUC = 0.815\n",
      "Numerical variable with the highest AUC is: duration\n"
     ]
    }
   ],
   "source": [
    "numerical = ['age', 'balance', 'day', 'duration']\n",
    "auc_scores = {}\n",
    "\n",
    "for var in numerical:\n",
    "    auc = roc_auc_score(y_train, df_train[var])\n",
    "    \n",
    "    if auc < 0.5:\n",
    "        auc = roc_auc_score(y_train, -df_train[var])\n",
    "        print(f\"Inverted {var} for AUC calculation\")\n",
    "    auc_scores[var] = auc\n",
    "\n",
    "for var, auc in auc_scores.items():\n",
    "    print(f\"{var}: AUC = {auc:.3f}\")\n",
    "\n",
    "best_var = max(auc_scores, key=auc_scores.get)\n",
    "print(f\"Numerical variable with the highest AUC is: {best_var}\")\n"
   ]
  },
  {
   "cell_type": "markdown",
   "id": "14fe8467-c3bb-4781-b62f-521e7c2a628d",
   "metadata": {},
   "source": [
    "# Question 2"
   ]
  },
  {
   "cell_type": "code",
   "execution_count": 14,
   "id": "33d14449-4a68-4398-ae41-571b43d3ecaf",
   "metadata": {},
   "outputs": [],
   "source": [
    "# Apply one-hot-encoding using DictVectorizer and train the logistic regression with these parameters:\n",
    "\n",
    "# LogisticRegression(solver='liblinear', C=1.0, max_iter=1000)\n",
    "# What's the AUC of this model on the validation dataset? (round to 3 digits)"
   ]
  },
  {
   "cell_type": "code",
   "execution_count": 17,
   "id": "9e406d97-46f9-4e12-9535-08ac7adf939b",
   "metadata": {},
   "outputs": [
    {
     "name": "stdout",
     "output_type": "stream",
     "text": [
      "AUC on validation dataset: 0.901\n"
     ]
    }
   ],
   "source": [
    "dv = DictVectorizer(sparse=False)\n",
    "\n",
    "train_dicts = df_train.to_dict(orient='records')\n",
    "val_dicts = df_val.to_dict(orient='records')\n",
    "\n",
    "X_train = dv.fit_transform(train_dicts)\n",
    "X_val = dv.transform(val_dicts)\n",
    "\n",
    "model = LogisticRegression(solver='liblinear', C=1.0, max_iter=1000)\n",
    "model.fit(X_train, y_train)\n",
    "\n",
    "y_val_pred = model.predict_proba(X_val)[:, 1]\n",
    "\n",
    "auc_val = roc_auc_score(y_val, y_val_pred)\n",
    "\n",
    "print(f\"AUC on validation dataset: {auc_val:.3f}\")\n"
   ]
  },
  {
   "cell_type": "markdown",
   "id": "8469fab8-2bd6-4ecb-aec3-e34497dfcaca",
   "metadata": {},
   "source": [
    "# Question 3"
   ]
  },
  {
   "cell_type": "code",
   "execution_count": 18,
   "id": "68659616-5ba3-4ba1-80a4-9d0b87f41387",
   "metadata": {},
   "outputs": [],
   "source": [
    "# Now let's compute precision and recall for our model.\n",
    "\n",
    "#Evaluate the model on all thresholds from 0.0 to 1.0 with step 0.01\n",
    "# For each threshold, compute precision and recall\n",
    "# Plot them\n",
    "# At which threshold precision and recall curves intersect?\n",
    "\n"
   ]
  },
  {
   "cell_type": "code",
   "execution_count": 19,
   "id": "35feb1d7-0d24-4ab7-bc8f-36cb0e51d1bb",
   "metadata": {},
   "outputs": [],
   "source": [
    "def confusion_matrix_dataframe(y_val, y_pred):\n",
    "    scores = []\n",
    "\n",
    "    thresholds = np.linspace(0, 1, 101)\n",
    "\n",
    "    for t in thresholds:\n",
    "        actual_positive = (y_val == \"yes\")\n",
    "        actual_negative = (y_val == \"no\")\n",
    "\n",
    "        predict_positive = (y_pred >= t)\n",
    "        predict_negative = (y_pred < t)\n",
    "\n",
    "        tp = (predict_positive & actual_positive).sum()\n",
    "        tn = (predict_negative & actual_negative).sum()\n",
    "\n",
    "        fp = (predict_positive & actual_negative).sum()\n",
    "        fn = (predict_negative & actual_positive).sum()\n",
    "\n",
    "        scores.append((t, tp, fp, fn, tn))\n",
    "\n",
    "    columns = ['threshold', 'tp', 'fp', 'fn', 'tn']\n",
    "    df_scores = pd.DataFrame(scores, columns=columns)\n",
    "\n",
    "    #precision = tp / (tp + fp)\n",
    "    #recall = tp / (tp + fn)\n",
    "    #precision, recall\n",
    "\n",
    "    return df_scores"
   ]
  },
  {
   "cell_type": "code",
   "execution_count": 20,
   "id": "592e88bc-e633-41f6-bff8-f7f19597d2c2",
   "metadata": {},
   "outputs": [],
   "source": [
    "df_scores = confusion_matrix_dataframe(y_val, y_pred)"
   ]
  },
  {
   "cell_type": "code",
   "execution_count": 21,
   "id": "9a9880a5-b5e0-4579-98a3-ea645fccec99",
   "metadata": {},
   "outputs": [],
   "source": [
    "df_scores['precision'] = df_scores.tp / (df_scores.tp + df_scores.fp)"
   ]
  },
  {
   "cell_type": "code",
   "execution_count": 22,
   "id": "90e12995-5681-42af-b3b5-3449fb07a774",
   "metadata": {},
   "outputs": [],
   "source": [
    "df_scores['recall'] = df_scores.tp / (df_scores.tp + df_scores.fn)"
   ]
  },
  {
   "cell_type": "code",
   "execution_count": 23,
   "id": "8898c9f2-394e-4ffa-85d7-a946aa73f264",
   "metadata": {},
   "outputs": [
    {
     "data": {
      "image/png": "[encoded data removed]",
      "text/plain": [
       "<Figure size 640x480 with 1 Axes>"
      ]
     },
     "metadata": {},
     "output_type": "display_data"
    }
   ],
   "source": [
    "plt.plot(df_scores.threshold, df_scores.precision, label='precision')\n",
    "plt.plot(df_scores.threshold, df_scores.recall, label='recall')\n",
    "\n",
    "plt.legend()\n",
    "plt.show()"
   ]
  },
  {
   "cell_type": "code",
   "execution_count": 24,
   "id": "6aa91105-7a33-4ea9-859a-5eb1f7421248",
   "metadata": {},
   "outputs": [
    {
     "name": "stdout",
     "output_type": "stream",
     "text": [
      "Intersection occurs at threshold: 0.270\n"
     ]
    }
   ],
   "source": [
    "df_scores['diff'] = np.abs(df_scores.precision - df_scores.recall)\n",
    "min_diff_index = df_scores['diff'].idxmin()\n",
    "intersection_threshold = df_scores.loc[min_diff_index, 'threshold']\n",
    "\n",
    "print(f\"Intersection occurs at threshold: {intersection_threshold:.3f}\")"
   ]
  },
  {
   "cell_type": "markdown",
   "id": "6db67fe2-6f78-4a00-a546-b031135b2e89",
   "metadata": {},
   "source": [
    "# Question 4"
   ]
  },
  {
   "cell_type": "code",
   "execution_count": 25,
   "id": "9d537f47-7e0d-481b-b2f0-3f61d0f1d267",
   "metadata": {},
   "outputs": [],
   "source": [
    "\n",
    "# Let's compute F1 for all thresholds from 0.0 to 1.0 with increment 0.01\n",
    "\n",
    "# At which threshold F1 is maximal?"
   ]
  },
  {
   "cell_type": "code",
   "execution_count": 26,
   "id": "5acac85a-fc90-4b84-92ab-49514889e66f",
   "metadata": {},
   "outputs": [
    {
     "name": "stdout",
     "output_type": "stream",
     "text": [
      "Threshold at which F1 is max: 0.23\n",
      "Max F1 score: 0.568\n"
     ]
    }
   ],
   "source": [
    "df_scores['F1'] = 2 * (df_scores['precision'] * df_scores['recall']) / (df_scores['precision'] + df_scores['recall'])\n",
    "\n",
    "max_f1_threshold = df_scores.loc[df_scores['F1'].idxmax(), 'threshold']\n",
    "max_f1_value = df_scores['F1'].max()\n",
    "\n",
    "print(f\"Threshold at which F1 is max: {max_f1_threshold:.2f}\")\n",
    "print(f\"Max F1 score: {max_f1_value:.3f}\")\n"
   ]
  },
  {
   "cell_type": "code",
   "execution_count": 27,
   "id": "6642ddea-02ea-4c5b-95f4-e30b6a6beb46",
   "metadata": {},
   "outputs": [
    {
     "name": "stdout",
     "output_type": "stream",
     "text": [
      "F1 score at threshold 0.02: 0.278\n",
      "F1 score at threshold 0.22: 0.566\n",
      "F1 score at threshold 0.42: 0.493\n",
      "F1 score at threshold 0.62: 0.368\n"
     ]
    }
   ],
   "source": [
    "specific_thresholds = [0.02, 0.22, 0.42, 0.62]\n",
    "for threshold in specific_thresholds:\n",
    "    f1_at_threshold = df_scores[df_scores['threshold'] == threshold]['F1'].values[0]\n",
    "    print(f\"F1 score at threshold {threshold:.2f}: {f1_at_threshold:.3f}\")"
   ]
  },
  {
   "cell_type": "markdown",
   "id": "27eee313-1200-4317-aafe-341bd832bbba",
   "metadata": {},
   "source": [
    "# Question 5"
   ]
  },
  {
   "cell_type": "code",
   "execution_count": 30,
   "id": "f3630546-fc8a-412c-b2c3-a3eff84293e2",
   "metadata": {},
   "outputs": [
    {
     "name": "stdout",
     "output_type": "stream",
     "text": [
      "AUC scores for the folds: [0.89989886 0.90082673 0.91185031 0.90843449 0.91253435]\n",
      "Standard deviation of AUC scores: 0.005373\n"
     ]
    }
   ],
   "source": [
    "kf = KFold(n_splits=5, shuffle=True, random_state=1)\n",
    "\n",
    "auc_scores = []\n",
    "\n",
    "for train_idx, val_idx in kf.split(df_full_train):\n",
    "    df_train_fold = df_full_train.iloc[train_idx]\n",
    "    df_val_fold = df_full_train.iloc[val_idx]\n",
    "    \n",
    "    y_train_fold = (df_train_fold['y'] == 'yes').astype(int)\n",
    "    y_val_fold = (df_val_fold['y'] == 'yes').astype(int)\n",
    "    \n",
    "    del df_train_fold['y']\n",
    "    del df_val_fold['y']\n",
    "    \n",
    "    dv = DictVectorizer(sparse=False)\n",
    "    X_train_fold = dv.fit_transform(df_train_fold.to_dict(orient='records'))\n",
    "    X_val_fold = dv.transform(df_val_fold.to_dict(orient='records'))\n",
    "    \n",
    "    model = LogisticRegression(solver='liblinear', C=1.0, max_iter=1000)\n",
    "    model.fit(X_train_fold, y_train_fold)\n",
    "    \n",
    "    y_val_pred_fold = model.predict_proba(X_val_fold)[:, 1]\n",
    "    auc_fold = roc_auc_score(y_val_fold, y_val_pred_fold)\n",
    "    \n",
    "    auc_scores.append(auc_fold)\n",
    "    \n",
    "auc_scores = np.array(auc_scores)\n",
    "\n",
    "std_auc = np.std(auc_scores)\n",
    "\n",
    "print(f\"AUC scores for the folds: {auc_scores}\")\n",
    "print(f\"Standard deviation of AUC scores: {std_auc:.6f}\")\n",
    "\n"
   ]
  }
 ],
 "metadata": {
  "kernelspec": {
   "display_name": "Python 3 (ipykernel)",
   "language": "python",
   "name": "python3"
  },
  "language_info": {
   "codemirror_mode": {
    "name": "ipython",
    "version": 3
   },
   "file_extension": ".py",
   "mimetype": "text/x-python",
   "name": "python",
   "nbconvert_exporter": "python",
   "pygments_lexer": "ipython3",
   "version": "3.12.1"
  }
 },
 "nbformat": 4,
 "nbformat_minor": 5
}
